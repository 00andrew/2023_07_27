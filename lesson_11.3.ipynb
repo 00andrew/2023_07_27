{
 "cells": [
  {
   "cell_type": "code",
   "execution_count": 4,
   "metadata": {},
   "outputs": [
    {
     "name": "stdout",
     "output_type": "stream",
     "text": [
      "['陳彥治', '100', '58', '95', '84', '76']\n",
      "['張韋成', '77', '70', '86', '62', '93']\n",
      "['賴佳雯', '62', '58', '81', '83', '90']\n",
      "['王坤安', '92', '66', '98', '82', '67']\n",
      "['林淑安', '76', '87', '97', '90', '74']\n",
      "['黃健發', '55', '54', '100', '51', '52']\n",
      "['金宜芳', '75', '71', '64', '94', '77']\n",
      "['鄧亭聿', '71', '62', '78', '79', '62']\n",
      "['黃必琪', '81', '64', '56', '99', '92']\n",
      "['余月修', '75', '98', '50', '52', '97']\n",
      "['盧冠發', '72', '58', '88', '60', '53']\n",
      "['鄭琇亞', '90', '57', '78', '87', '93']\n",
      "['黃柏宇', '96', '65', '92', '97', '64']\n",
      "['黃心航', '78', '70', '72', '90', '96']\n",
      "['蒙淑惠', '80', '81', '62', '74', '97']\n"
     ]
    }
   ],
   "source": [
    "#讀取csv檔成為2維的list\n",
    "import csv\n",
    "with open('a2.csv',encoding='utf-8',newline='') as file:\n",
    "    csv_reader = csv.reader(file)\n",
    "    for row in csv_reader:\n",
    "        print(row)"
   ]
  },
  {
   "cell_type": "code",
   "execution_count": 5,
   "metadata": {},
   "outputs": [
    {
     "data": {
      "text/plain": [
       "[['張韋成', '77', '70', '86', '62', '93'],\n",
       " ['賴佳雯', '62', '58', '81', '83', '90'],\n",
       " ['王坤安', '92', '66', '98', '82', '67'],\n",
       " ['林淑安', '76', '87', '97', '90', '74'],\n",
       " ['黃健發', '55', '54', '100', '51', '52'],\n",
       " ['金宜芳', '75', '71', '64', '94', '77'],\n",
       " ['鄧亭聿', '71', '62', '78', '79', '62'],\n",
       " ['黃必琪', '81', '64', '56', '99', '92'],\n",
       " ['余月修', '75', '98', '50', '52', '97'],\n",
       " ['盧冠發', '72', '58', '88', '60', '53'],\n",
       " ['鄭琇亞', '90', '57', '78', '87', '93'],\n",
       " ['黃柏宇', '96', '65', '92', '97', '64'],\n",
       " ['黃心航', '78', '70', '72', '90', '96'],\n",
       " ['蒙淑惠', '80', '81', '62', '74', '97']]"
      ]
     },
     "metadata": {},
     "output_type": "display_data"
    }
   ],
   "source": [
    "#讀取csv檔成為2維的list\n",
    "import csv\n",
    "with open('a2.csv',encoding='utf-8',newline='') as file:\n",
    "    csv_reader = csv.reader(file)\n",
    "    next(csv_reader)\n",
    "    #print(type(csv_reader))\n",
    "    csv_list = list(csv_reader)\n",
    "display(csv_list)"
   ]
  },
  {
   "cell_type": "code",
   "execution_count": 7,
   "metadata": {},
   "outputs": [
    {
     "name": "stdout",
     "output_type": "stream",
     "text": [
      "['金宜芳', '75', '71', '64', '94', '77']\n"
     ]
    }
   ],
   "source": [
    "for student in csv_list:\n",
    "    if student[0] == '金宜芳':\n",
    "        print(student)\n",
    "        break"
   ]
  },
  {
   "cell_type": "code",
   "execution_count": null,
   "metadata": {},
   "outputs": [],
   "source": []
  },
  {
   "cell_type": "code",
   "execution_count": null,
   "metadata": {},
   "outputs": [],
   "source": []
  },
  {
   "cell_type": "code",
   "execution_count": null,
   "metadata": {},
   "outputs": [],
   "source": []
  },
  {
   "cell_type": "code",
   "execution_count": null,
   "metadata": {},
   "outputs": [],
   "source": []
  },
  {
   "cell_type": "code",
   "execution_count": null,
   "metadata": {},
   "outputs": [],
   "source": []
  }
 ],
 "metadata": {
  "kernelspec": {
   "display_name": "Python 3",
   "language": "python",
   "name": "python3"
  },
  "language_info": {
   "codemirror_mode": {
    "name": "ipython",
    "version": 3
   },
   "file_extension": ".py",
   "mimetype": "text/x-python",
   "name": "python",
   "nbconvert_exporter": "python",
   "pygments_lexer": "ipython3",
   "version": "3.10.12"
  },
  "orig_nbformat": 4
 },
 "nbformat": 4,
 "nbformat_minor": 2
}
