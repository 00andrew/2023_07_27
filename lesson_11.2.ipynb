{
 "cells": [
  {
   "cell_type": "code",
   "execution_count": 8,
   "metadata": {},
   "outputs": [],
   "source": [
    "import random\n",
    "def get_score() -> list:\n",
    "    score = []\n",
    "    for i in range(5):\n",
    "        score.append(random.randint(50, 100))\n",
    "    return score\n",
    "\n",
    "def get_names(nums:int) -> list:\n",
    "    with open('names.txt',encoding='utf-8',newline='') as file:\n",
    "        names_str = file.read()\n",
    "        all_names_list = names_str.split(sep=\"\\n\")\n",
    "        names_list = random.choices(all_names_list,k=nums) #取出一定數量的姓名\n",
    "    return names_list"
   ]
  },
  {
   "cell_type": "code",
   "execution_count": 11,
   "metadata": {},
   "outputs": [
    {
     "data": {
      "text/plain": [
       "[['鍾俞禎', 54, 73, 59, 75, 100],\n",
       " ['元延辛', 63, 64, 100, 59, 76],\n",
       " ['吳俐芷', 78, 89, 84, 54, 79],\n",
       " ['郭舜昇', 91, 92, 54, 98, 70],\n",
       " ['唐翊修', 64, 54, 77, 53, 76],\n",
       " ['陳樂紫', 95, 65, 100, 64, 95],\n",
       " ['吳昕婷', 79, 80, 98, 62, 56],\n",
       " ['吳晴洋', 72, 92, 73, 73, 85],\n",
       " ['李慈啟', 98, 73, 53, 54, 57],\n",
       " ['馮淑芬', 96, 85, 61, 92, 82],\n",
       " ['張牧聿', 93, 75, 97, 72, 99],\n",
       " ['藍哲嘉', 95, 74, 51, 88, 73],\n",
       " ['王志謙', 95, 67, 75, 97, 97],\n",
       " ['鄧淑娟', 77, 68, 99, 50, 70],\n",
       " ['張家秀', 81, 66, 64, 79, 67],\n",
       " ['翁羽威', 93, 64, 79, 83, 54],\n",
       " ['楊健麟', 53, 98, 52, 68, 53],\n",
       " ['金宜芳', 99, 94, 78, 99, 57],\n",
       " ['林麗萍', 69, 94, 70, 83, 76],\n",
       " ['劉萬季', 100, 91, 68, 80, 61],\n",
       " ['黃政甫', 64, 91, 91, 74, 84],\n",
       " ['梁柏宇', 100, 58, 65, 57, 97],\n",
       " ['陳姵彬', 55, 54, 68, 85, 99],\n",
       " ['蔡孟泉', 90, 70, 65, 69, 70],\n",
       " ['黃彥孝', 82, 95, 98, 58, 55],\n",
       " ['陳美惠', 64, 83, 67, 83, 65],\n",
       " ['胡姿婷', 58, 79, 74, 79, 86],\n",
       " ['黃必琪', 79, 73, 59, 98, 59],\n",
       " ['吳柏誠', 70, 58, 57, 76, 59],\n",
       " ['黃嘉琪', 98, 80, 52, 75, 51],\n",
       " ['楊綺芬', 82, 62, 51, 75, 69],\n",
       " ['楊健麟', 85, 93, 89, 89, 56],\n",
       " ['羅佩樺', 64, 80, 64, 51, 68],\n",
       " ['高智超', 50, 65, 63, 89, 80],\n",
       " ['楊韋廷', 67, 79, 76, 87, 89],\n",
       " ['許淑婷', 66, 65, 78, 61, 94],\n",
       " ['蒙淑惠', 72, 70, 59, 68, 79],\n",
       " ['楊綺芬', 90, 75, 92, 80, 52],\n",
       " ['陳彥治', 51, 95, 100, 75, 84],\n",
       " ['黃婷婷', 52, 59, 98, 89, 59],\n",
       " ['李美洋', 51, 59, 84, 85, 96],\n",
       " ['王明昇', 91, 71, 65, 90, 99],\n",
       " ['陳樂紫', 68, 52, 92, 53, 58],\n",
       " ['沈心利', 79, 100, 79, 72, 75],\n",
       " ['張雅芬', 58, 68, 72, 86, 67],\n",
       " ['賴昌韻', 97, 61, 76, 79, 76],\n",
       " ['邱亭君', 86, 82, 88, 72, 89],\n",
       " ['鍾俞禎', 92, 62, 90, 87, 55],\n",
       " ['郎慧萍', 94, 89, 73, 57, 90],\n",
       " ['蔡欣汝', 61, 89, 86, 89, 76]]"
      ]
     },
     "execution_count": 11,
     "metadata": {},
     "output_type": "execute_result"
    }
   ],
   "source": [
    "nums_int = int(input(\"請輸入學生數:\"))\n",
    "#取得nums_int個姓名\n",
    "names_list = get_names(nums_int)\n",
    "students = []\n",
    "for i in range(nums_int):\n",
    "    scores = get_score()\n",
    "    new_list = [names_list[i]] + scores\n",
    "    students.append(new_list)\n",
    "students"
   ]
  },
  {
   "cell_type": "code",
   "execution_count": 12,
   "metadata": {},
   "outputs": [
    {
     "name": "stdout",
     "output_type": "stream",
     "text": [
      "存檔成功\n"
     ]
    }
   ],
   "source": [
    "import csv\n",
    "#將2維list儲存為csv檔\n",
    "fileName = input(\"請輸入檔案名:(csv)\")\n",
    "with open(f'{fileName}.csv',mode='w',encoding='utf-8', newline='') as file:\n",
    "    csv_writer = csv.writer(file)\n",
    "    csv_writer.writerow(['姓名', '國文', '英文', '數學', '地理', '歷史'])\n",
    "    csv_writer.writerows(students)\n",
    "\n",
    "print(\"存檔成功\")"
   ]
  }
 ],
 "metadata": {
  "kernelspec": {
   "display_name": "Python 3",
   "language": "python",
   "name": "python3"
  },
  "language_info": {
   "codemirror_mode": {
    "name": "ipython",
    "version": 3
   },
   "file_extension": ".py",
   "mimetype": "text/x-python",
   "name": "python",
   "nbconvert_exporter": "python",
   "pygments_lexer": "ipython3",
   "version": "3.10.12"
  },
  "orig_nbformat": 4
 },
 "nbformat": 4,
 "nbformat_minor": 2
}
