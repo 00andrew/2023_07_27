{
 "cells": [
  {
   "cell_type": "code",
   "execution_count": 3,
   "metadata": {},
   "outputs": [
    {
     "name": "stdout",
     "output_type": "stream",
     "text": [
      "學生等級:丙\n"
     ]
    }
   ],
   "source": [
    "#連續數值的判斷\n",
    "#EX.90(含)~100分為[優]\n",
    "#80(含)~89分為[甲]\n",
    "#70(含)~79分為[乙]\n",
    "#60(含)~69分為[丙]\n",
    "#0(含)~59分為[丁]\n",
    "\n",
    "score=int(input(\"請輸入學生分數:\"))\n",
    "if score>=90:\n",
    "    grade='優'\n",
    "elif score>=80:\n",
    "    grade='甲'\n",
    "elif score>=70:\n",
    "    grade='乙'\n",
    "elif score>=60:\n",
    "    grade='丙'\n",
    "else:\n",
    "    grade='丁'\n",
    "print(f\"學生等級:{grade}\")"
   ]
  },
  {
   "cell_type": "code",
   "execution_count": 10,
   "metadata": {},
   "outputs": [
    {
     "name": "stdout",
     "output_type": "stream",
     "text": [
      "實付金額:82633\n"
     ]
    }
   ],
   "source": [
    "#輸入顧客購買金額,若金額落在\n",
    "#100000元打8折\n",
    "#50000元打85折\n",
    "#30000元打9折\n",
    "#10000元打95折\n",
    "\n",
    "money=int(input(\"請輸入交易金額:\"))\n",
    "paymoney=0\n",
    "if(money>=100000):\n",
    "    paymoney=money*0.8\n",
    "elif(money>=50000):\n",
    "    paymoney=money*0.85\n",
    "elif(money>=30000):\n",
    "    paymoney=money*0.9\n",
    "elif(money>=10000):\n",
    "    paymoney=money*0.95\n",
    "else:\n",
    "    paymoney=money*1\n",
    "\n",
    "print(f\"實付金額:{int(paymoney)}\")\n"
   ]
  },
  {
   "cell_type": "code",
   "execution_count": 11,
   "metadata": {},
   "outputs": [
    {
     "name": "stdout",
     "output_type": "stream",
     "text": [
      "實付金額:55369\n"
     ]
    }
   ],
   "source": [
    "money=int(input(\"請輸入交易金額:\"))\n",
    "paymoney=0\n",
    "if(money<10000):\n",
    "    paymoney=money*1\n",
    "elif(money<30000):\n",
    "    paymoney=money*0.95\n",
    "elif(money<50000):\n",
    "    paymoney=money*0.9\n",
    "elif(money<100000):\n",
    "    paymoney=money*0.85\n",
    "else:\n",
    "    paymoney=money*0.8\n",
    "\n",
    "print(f\"實付金額:{int(paymoney)}\")"
   ]
  },
  {
   "cell_type": "code",
   "execution_count": 15,
   "metadata": {},
   "outputs": [
    {
     "name": "stdout",
     "output_type": "stream",
     "text": [
      "可看:限制級、輔導級、普遍級\n"
     ]
    }
   ],
   "source": [
    "#限制級:18歲(含)以上可欣賞\n",
    "#輔導級:13(含)~17歲以上可欣賞\n",
    "#普遍級:12(含)歲以下可欣賞\n",
    "#如果沒有輸入年齡則設為普遍級\n",
    "\n",
    "age=input(\"請輸入年齡:\")\n",
    "rating=\"\"\n",
    "\n",
    "if age=='':\n",
    "    rating='普遍級'\n",
    "elif int(age)>=18:\n",
    "    rating='限制級、輔導級、普遍級'\n",
    "elif int(age)>=13:\n",
    "    rating='輔導級、普遍級'\n",
    "else:\n",
    "    rating='普遍級'\n",
    "\n",
    "print(f\"可看:{rating}\")"
   ]
  },
  {
   "cell_type": "code",
   "execution_count": 16,
   "metadata": {},
   "outputs": [
    {
     "name": "stdout",
     "output_type": "stream",
     "text": [
      "不加分\n"
     ]
    }
   ],
   "source": [
    "add=input(\"請問是否加分(y,n)\")\n",
    "if not add=='n':\n",
    "    print(\"加分\")\n",
    "else:\n",
    "    print(\"不加分\")"
   ]
  }
 ],
 "metadata": {
  "kernelspec": {
   "display_name": "Python 3",
   "language": "python",
   "name": "python3"
  },
  "language_info": {
   "codemirror_mode": {
    "name": "ipython",
    "version": 3
   },
   "file_extension": ".py",
   "mimetype": "text/x-python",
   "name": "python",
   "nbconvert_exporter": "python",
   "pygments_lexer": "ipython3",
   "version": "3.10.12"
  },
  "orig_nbformat": 4
 },
 "nbformat": 4,
 "nbformat_minor": 2
}
