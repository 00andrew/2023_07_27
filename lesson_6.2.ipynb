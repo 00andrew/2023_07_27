{
 "cells": [
  {
   "cell_type": "code",
   "execution_count": 4,
   "metadata": {},
   "outputs": [
    {
     "data": {
      "text/plain": [
       "2"
      ]
     },
     "execution_count": 4,
     "metadata": {},
     "output_type": "execute_result"
    }
   ],
   "source": [
    "import random\n",
    "#0~4的亂數\n",
    "random.randrange(5)\n"
   ]
  },
  {
   "cell_type": "code",
   "execution_count": 5,
   "metadata": {},
   "outputs": [
    {
     "data": {
      "text/plain": [
       "3"
      ]
     },
     "execution_count": 5,
     "metadata": {},
     "output_type": "execute_result"
    }
   ],
   "source": [
    "random.randrange(3,5)\n"
   ]
  },
  {
   "cell_type": "code",
   "execution_count": 6,
   "metadata": {},
   "outputs": [
    {
     "data": {
      "text/plain": [
       "8"
      ]
     },
     "execution_count": 6,
     "metadata": {},
     "output_type": "execute_result"
    }
   ],
   "source": [
    "random.randrange(1,10)\n"
   ]
  },
  {
   "cell_type": "code",
   "execution_count": 9,
   "metadata": {},
   "outputs": [
    {
     "name": "stdout",
     "output_type": "stream",
     "text": [
      "========猜數字遊戲========\n",
      "\n",
      "\n",
      "wrong\n",
      "u already guess 1 times\n",
      "wrong\n",
      "u already guess 2 times\n",
      "wrong\n",
      "u already guess 3 times\n",
      "bingo! u win,the answer is:4\n",
      "the total 4 times u guess\n",
      "Game Over\n"
     ]
    }
   ],
   "source": [
    "import random\n",
    "min=1\n",
    "max=10\n",
    "target=random.randint(1,10)\n",
    "count=0\n",
    "\n",
    "print(\"========猜數字遊戲========\\n\\n\")\n",
    "while True:\n",
    "    keyin=int(input(f\"猜數字的範圍{min}~{max}\"))\n",
    "    count+=1\n",
    "    if keyin>=min and keyin<=max:\n",
    "        if(keyin==target):\n",
    "            print(f\"bingo! u win,the answer is:{keyin}\")\n",
    "            print(f\"the total {count} times u guess\")\n",
    "            break\n",
    "        else:\n",
    "            print(\"wrong\")\n",
    "            print(f\"u already guess {count} times\")\n",
    "    else:\n",
    "        print(\"over the range\")\n",
    "print(\"Game Over\")\n"
   ]
  },
  {
   "cell_type": "code",
   "execution_count": 11,
   "metadata": {},
   "outputs": [
    {
     "name": "stdout",
     "output_type": "stream",
     "text": [
      "========猜數字遊戲========\n",
      "\n",
      "\n",
      "bigger\n",
      "u already guess 1 times\n",
      "smaller\n",
      "u already guess 2 times\n",
      "smaller\n",
      "u already guess 3 times\n",
      "smaller\n",
      "u already guess 4 times\n",
      "smaller\n",
      "u already guess 5 times\n",
      "smaller\n",
      "u already guess 6 times\n",
      "bingo! u win,the answer is:51\n",
      "the total 7 times u guess\n",
      "Game Over\n"
     ]
    }
   ],
   "source": [
    "import random\n",
    "min=1\n",
    "max=100\n",
    "target=random.randint(min,max)\n",
    "count=0\n",
    "\n",
    "print(\"========猜數字遊戲========\\n\\n\")\n",
    "while True:\n",
    "    keyin=int(input(f\"猜數字的範圍{min}~{max}\"))\n",
    "    count+=1\n",
    "    if keyin>=min and keyin<=max:\n",
    "        if(keyin==target):\n",
    "            print(f\"bingo! u win,the answer is:{keyin}\")\n",
    "            print(f\"the total {count} times u guess\")\n",
    "            break\n",
    "        elif(keyin>target):\n",
    "            print(\"smaller\")\n",
    "            max=keyin-1\n",
    "\n",
    "        elif(keyin<target):\n",
    "            print(\"bigger\")\n",
    "            min=keyin+1\n",
    "    \n",
    "        print(f\"u already guess {count} times\")\n",
    "    else:\n",
    "        print(\"over the range\")\n",
    "print(\"Game Over\")"
   ]
  },
  {
   "cell_type": "code",
   "execution_count": 16,
   "metadata": {},
   "outputs": [
    {
     "name": "stdout",
     "output_type": "stream",
     "text": [
      "========猜數字遊戲========\n",
      "\n",
      "\n",
      "smaller\n",
      "u already guess 1 times\n",
      "smaller\n",
      "u already guess 2 times\n",
      "smaller\n",
      "u already guess 3 times\n",
      "smaller\n",
      "u already guess 4 times\n",
      "bigger\n",
      "u already guess 5 times\n",
      "bigger\n",
      "u already guess 6 times\n",
      "bigger\n",
      "u already guess 7 times\n",
      "bingo! u win,the answer is:18\n",
      "the total 8 times u guess\n",
      "Game Over\n"
     ]
    }
   ],
   "source": [
    "while True:\n",
    "    import random\n",
    "    min=1\n",
    "    max=100\n",
    "    target=random.randint(min,max)\n",
    "    count=0\n",
    "\n",
    "    print(\"========猜數字遊戲========\\n\\n\")\n",
    "    while True:\n",
    "        keyin=int(input(f\"猜數字的範圍{min}~{max}\"))\n",
    "        count+=1\n",
    "        if keyin>=min and keyin<=max:\n",
    "            if(keyin==target):\n",
    "                print(f\"bingo! u win,the answer is:{keyin}\")\n",
    "                print(f\"the total {count} times u guess\")\n",
    "                break\n",
    "            elif(keyin>target):\n",
    "                print(\"smaller\")\n",
    "                max=keyin-1\n",
    "\n",
    "            elif(keyin<target):\n",
    "                print(\"bigger\")\n",
    "                min=keyin+1\n",
    "        \n",
    "            print(f\"u already guess {count} times\")\n",
    "        else:\n",
    "            print(\"over the range\")\n",
    "    play_again=input(\"do u wanna play again?(y or n):\")\n",
    "    if play_again =='n':\n",
    "        break\n",
    "    else:\n",
    "        continue\n",
    "        \n",
    "        \n",
    "\n",
    "print(\"Game Over\")"
   ]
  }
 ],
 "metadata": {
  "kernelspec": {
   "display_name": "Python 3",
   "language": "python",
   "name": "python3"
  },
  "language_info": {
   "codemirror_mode": {
    "name": "ipython",
    "version": 3
   },
   "file_extension": ".py",
   "mimetype": "text/x-python",
   "name": "python",
   "nbconvert_exporter": "python",
   "pygments_lexer": "ipython3",
   "version": "3.10.12"
  },
  "orig_nbformat": 4
 },
 "nbformat": 4,
 "nbformat_minor": 2
}
