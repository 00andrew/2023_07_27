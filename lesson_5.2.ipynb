{
 "cells": [
  {
   "cell_type": "code",
   "execution_count": 1,
   "metadata": {},
   "outputs": [
    {
     "name": "stdout",
     "output_type": "stream",
     "text": [
      "0\n",
      "1\n",
      "2\n",
      "3\n",
      "4\n"
     ]
    }
   ],
   "source": [
    "for i in range(5):\n",
    "    print(i)"
   ]
  },
  {
   "cell_type": "code",
   "execution_count": 2,
   "metadata": {},
   "outputs": [
    {
     "name": "stdout",
     "output_type": "stream",
     "text": [
      "1\n",
      "2\n",
      "3\n",
      "4\n"
     ]
    }
   ],
   "source": [
    "for i in range(1,5):\n",
    "    print(i)"
   ]
  },
  {
   "cell_type": "code",
   "execution_count": 3,
   "metadata": {},
   "outputs": [
    {
     "name": "stdout",
     "output_type": "stream",
     "text": [
      "1\n",
      "3\n",
      "5\n",
      "7\n",
      "9\n"
     ]
    }
   ],
   "source": [
    "for i in range(1,10,2):\n",
    "    print(i)"
   ]
  },
  {
   "cell_type": "code",
   "execution_count": 6,
   "metadata": {},
   "outputs": [
    {
     "name": "stdout",
     "output_type": "stream",
     "text": [
      "1加到100的數值為5050\n"
     ]
    }
   ],
   "source": [
    "#1~100加總的數值\n",
    "total=0\n",
    "for i in range(1,101):\n",
    "    total+=i\n",
    "\n",
    "print(f\"1加到100的數值為{total}\")"
   ]
  },
  {
   "cell_type": "code",
   "execution_count": 7,
   "metadata": {},
   "outputs": [
    {
     "name": "stdout",
     "output_type": "stream",
     "text": [
      "1加到100的數值為50005000\n"
     ]
    }
   ],
   "source": [
    "end=int(input(\"1加到多少的數值為:\"))\n",
    "total=0\n",
    "for i in range(1,end+1):\n",
    "    total+=i\n",
    "\n",
    "print(f\"1加到100的數值為{total}\")"
   ]
  },
  {
   "cell_type": "code",
   "execution_count": 8,
   "metadata": {},
   "outputs": [
    {
     "name": "stdout",
     "output_type": "stream",
     "text": [
      "65加到9513的數值為45251261\n"
     ]
    }
   ],
   "source": [
    "start=int(input(\"start的數值:\"))\n",
    "end=int(input(\"end的數值:\"))\n",
    "total=0\n",
    "for i in range(start,end+1):\n",
    "    total+=i\n",
    "\n",
    "print(f\"{start}加到{end}的數值為{total}\")"
   ]
  },
  {
   "cell_type": "code",
   "execution_count": 9,
   "metadata": {},
   "outputs": [
    {
     "name": "stdout",
     "output_type": "stream",
     "text": [
      "1加到100偶數的數值為2550\n",
      "1加到100基數的數值為2500\n"
     ]
    }
   ],
   "source": [
    "#1~100,偶數的加總\n",
    "#1~100,奇數的加總\n",
    "evenTotal=0\n",
    "oddTotal=0\n",
    "for i in range(1,101):\n",
    "    if i%2==0:\n",
    "        evenTotal+=i\n",
    "    else:\n",
    "        oddTotal+=i\n",
    "    total+=i\n",
    "\n",
    "print(f\"1加到100偶數的數值為{evenTotal}\")\n",
    "print(f\"1加到100基數的數值為{oddTotal}\")\n",
    "\n"
   ]
  },
  {
   "cell_type": "code",
   "execution_count": 13,
   "metadata": {},
   "outputs": [
    {
     "name": "stdout",
     "output_type": "stream",
     "text": [
      "i=1\n",
      "1*1=1 1*2=2 1*3=3 1*4=4 1*5=5 1*6=6 1*7=7 1*8=8 1*9=9 \n",
      "i=2\n",
      "2*1=2 2*2=4 2*3=6 2*4=8 2*5=10 2*6=12 2*7=14 2*8=16 2*9=18 \n",
      "i=3\n",
      "3*1=3 3*2=6 3*3=9 3*4=12 3*5=15 3*6=18 3*7=21 3*8=24 3*9=27 \n",
      "i=4\n",
      "4*1=4 4*2=8 4*3=12 4*4=16 4*5=20 4*6=24 4*7=28 4*8=32 4*9=36 \n",
      "i=5\n",
      "5*1=5 5*2=10 5*3=15 5*4=20 5*5=25 5*6=30 5*7=35 5*8=40 5*9=45 \n",
      "i=6\n",
      "6*1=6 6*2=12 6*3=18 6*4=24 6*5=30 6*6=36 6*7=42 6*8=48 6*9=54 \n",
      "i=7\n",
      "7*1=7 7*2=14 7*3=21 7*4=28 7*5=35 7*6=42 7*7=49 7*8=56 7*9=63 \n",
      "i=8\n",
      "8*1=8 8*2=16 8*3=24 8*4=32 8*5=40 8*6=48 8*7=56 8*8=64 8*9=72 \n",
      "i=9\n",
      "9*1=9 9*2=18 9*3=27 9*4=36 9*5=45 9*6=54 9*7=63 9*8=72 9*9=81 \n"
     ]
    }
   ],
   "source": [
    "#巢狀迴圈\n",
    "for i in range(1,10):\n",
    "    print(f\"i={i}\")\n",
    "    for j in range(1,10):\n",
    "        print(f\"{i}*{j}={i*j}\",end=' ')\n",
    "    print()"
   ]
  },
  {
   "cell_type": "code",
   "execution_count": 25,
   "metadata": {},
   "outputs": [
    {
     "name": "stdout",
     "output_type": "stream",
     "text": [
      " 1*1 = 1  1*2 = 2  1*3 = 3  1*4 = 4  1*5 = 5  1*6 = 6  1*7 = 7  1*8 = 8  1*9 = 9 \n",
      " 2*1 = 2  2*2 = 4  2*3 = 6  2*4 = 8  2*5 =10  2*6 =12  2*7 =14  2*8 =16  2*9 =18 \n",
      " 3*1 = 3  3*2 = 6  3*3 = 9  3*4 =12  3*5 =15  3*6 =18  3*7 =21  3*8 =24  3*9 =27 \n",
      " 4*1 = 4  4*2 = 8  4*3 =12  4*4 =16  4*5 =20  4*6 =24  4*7 =28  4*8 =32  4*9 =36 \n",
      " 5*1 = 5  5*2 =10  5*3 =15  5*4 =20  5*5 =25  5*6 =30  5*7 =35  5*8 =40  5*9 =45 \n",
      " 6*1 = 6  6*2 =12  6*3 =18  6*4 =24  6*5 =30  6*6 =36  6*7 =42  6*8 =48  6*9 =54 \n",
      " 7*1 = 7  7*2 =14  7*3 =21  7*4 =28  7*5 =35  7*6 =42  7*7 =49  7*8 =56  7*9 =63 \n",
      " 8*1 = 8  8*2 =16  8*3 =24  8*4 =32  8*5 =40  8*6 =48  8*7 =56  8*8 =64  8*9 =72 \n",
      " 9*1 = 9  9*2 =18  9*3 =27  9*4 =36  9*5 =45  9*6 =54  9*7 =63  9*8 =72  9*9 =81 \n"
     ]
    }
   ],
   "source": [
    "for i in range(1,10):\n",
    "    for j in range(1,10):\n",
    "        print(f\"{i:2d}*{j:<2d}={i*j:2d}\",end=' ')\n",
    "    print()"
   ]
  },
  {
   "cell_type": "code",
   "execution_count": 28,
   "metadata": {},
   "outputs": [
    {
     "name": "stdout",
     "output_type": "stream",
     "text": [
      "質數\n"
     ]
    }
   ],
   "source": [
    "is_prime=True\n",
    "\n",
    "int(input(\"輸入數值:\"))\n",
    "\n",
    "if is_prime:\n",
    "    print(\"質數\")\n",
    "else:\n",
    "    print(\"非質數\")"
   ]
  },
  {
   "cell_type": "code",
   "execution_count": 40,
   "metadata": {},
   "outputs": [
    {
     "name": "stdout",
     "output_type": "stream",
     "text": [
      "1到90的質數是:\n",
      "2 3 5 7 11 13 17 19 23 29 31 37 41 43 47 53 59 61 67 71 73 79 83 89 "
     ]
    }
   ],
   "source": [
    "end=int(input(\"請輸入end值:\"))\n",
    "print(f\"1到{end}的質數是:\")\n",
    "for num in range(2,end+1):\n",
    "    is_prime=True\n",
    "\n",
    "    for i in range(2,num):\n",
    "        if num%i==0:\n",
    "            is_prime=False\n",
    "\n",
    "    if is_prime:\n",
    "        print(f\"{num}\",end=\" \")\n",
    "    "
   ]
  },
  {
   "cell_type": "code",
   "execution_count": 21,
   "metadata": {},
   "outputs": [
    {
     "name": "stdout",
     "output_type": "stream",
     "text": [
      "10   *   10\n"
     ]
    }
   ],
   "source": [
    "num=10\n",
    "print(f\"{num:<5d}*{num:>5d}\")"
   ]
  },
  {
   "cell_type": "code",
   "execution_count": 15,
   "metadata": {},
   "outputs": [
    {
     "name": "stdout",
     "output_type": "stream",
     "text": [
      "1-2-3-4-5-a-b-d.\n"
     ]
    }
   ],
   "source": [
    "print(1,2,3,4,5,\"a\",\"b\",\"d\",end='.\\n',sep=\"-\")"
   ]
  }
 ],
 "metadata": {
  "kernelspec": {
   "display_name": "Python 3",
   "language": "python",
   "name": "python3"
  },
  "language_info": {
   "codemirror_mode": {
    "name": "ipython",
    "version": 3
   },
   "file_extension": ".py",
   "mimetype": "text/x-python",
   "name": "python",
   "nbconvert_exporter": "python",
   "pygments_lexer": "ipython3",
   "version": "3.10.12"
  },
  "orig_nbformat": 4
 },
 "nbformat": 4,
 "nbformat_minor": 2
}
